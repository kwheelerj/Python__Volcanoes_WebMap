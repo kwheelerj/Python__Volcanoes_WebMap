{
 "cells": [
  {
   "cell_type": "code",
   "execution_count": 8,
   "metadata": {},
   "outputs": [
    {
     "data": {
      "text/html": [
       "<div>\n",
       "<style scoped>\n",
       "    .dataframe tbody tr th:only-of-type {\n",
       "        vertical-align: middle;\n",
       "    }\n",
       "\n",
       "    .dataframe tbody tr th {\n",
       "        vertical-align: top;\n",
       "    }\n",
       "\n",
       "    .dataframe thead th {\n",
       "        text-align: right;\n",
       "    }\n",
       "</style>\n",
       "<table border=\"1\" class=\"dataframe\">\n",
       "  <thead>\n",
       "    <tr style=\"text-align: right;\">\n",
       "      <th></th>\n",
       "      <th>VOLCANX020</th>\n",
       "      <th>NUMBER</th>\n",
       "      <th>NAME</th>\n",
       "      <th>LOCATION</th>\n",
       "      <th>STATUS</th>\n",
       "      <th>ELEV</th>\n",
       "      <th>TYPE</th>\n",
       "      <th>TIMEFRAME</th>\n",
       "      <th>LAT</th>\n",
       "      <th>LON</th>\n",
       "    </tr>\n",
       "  </thead>\n",
       "  <tbody>\n",
       "    <tr>\n",
       "      <th>0</th>\n",
       "      <td>509.0</td>\n",
       "      <td>1201-01=</td>\n",
       "      <td>Baker</td>\n",
       "      <td>US-Washington</td>\n",
       "      <td>Historical</td>\n",
       "      <td>3285.0</td>\n",
       "      <td>Stratovolcanoes</td>\n",
       "      <td>D3</td>\n",
       "      <td>48.776798</td>\n",
       "      <td>-121.810997</td>\n",
       "    </tr>\n",
       "    <tr>\n",
       "      <th>1</th>\n",
       "      <td>511.0</td>\n",
       "      <td>1201-02-</td>\n",
       "      <td>Glacier Peak</td>\n",
       "      <td>US-Washington</td>\n",
       "      <td>Tephrochronology</td>\n",
       "      <td>3213.0</td>\n",
       "      <td>Stratovolcano</td>\n",
       "      <td>D4</td>\n",
       "      <td>48.111801</td>\n",
       "      <td>-121.111000</td>\n",
       "    </tr>\n",
       "    <tr>\n",
       "      <th>2</th>\n",
       "      <td>513.0</td>\n",
       "      <td>1201-03-</td>\n",
       "      <td>Rainier</td>\n",
       "      <td>US-Washington</td>\n",
       "      <td>Dendrochronology</td>\n",
       "      <td>4392.0</td>\n",
       "      <td>Stratovolcano</td>\n",
       "      <td>D3</td>\n",
       "      <td>46.869801</td>\n",
       "      <td>-121.751000</td>\n",
       "    </tr>\n",
       "    <tr>\n",
       "      <th>3</th>\n",
       "      <td>515.0</td>\n",
       "      <td>1201-05-</td>\n",
       "      <td>St. Helens</td>\n",
       "      <td>US-Washington</td>\n",
       "      <td>Historical</td>\n",
       "      <td>2549.0</td>\n",
       "      <td>Stratovolcano</td>\n",
       "      <td>D1</td>\n",
       "      <td>46.199799</td>\n",
       "      <td>-122.181000</td>\n",
       "    </tr>\n",
       "    <tr>\n",
       "      <th>4</th>\n",
       "      <td>516.0</td>\n",
       "      <td>1201-04-</td>\n",
       "      <td>Adams</td>\n",
       "      <td>US-Washington</td>\n",
       "      <td>Tephrochronology</td>\n",
       "      <td>3742.0</td>\n",
       "      <td>Stratovolcano</td>\n",
       "      <td>D6</td>\n",
       "      <td>46.205799</td>\n",
       "      <td>-121.490997</td>\n",
       "    </tr>\n",
       "    <tr>\n",
       "      <th>...</th>\n",
       "      <td>...</td>\n",
       "      <td>...</td>\n",
       "      <td>...</td>\n",
       "      <td>...</td>\n",
       "      <td>...</td>\n",
       "      <td>...</td>\n",
       "      <td>...</td>\n",
       "      <td>...</td>\n",
       "      <td>...</td>\n",
       "      <td>...</td>\n",
       "    </tr>\n",
       "    <tr>\n",
       "      <th>57</th>\n",
       "      <td>580.0</td>\n",
       "      <td>1210-03-</td>\n",
       "      <td>Valles Caldera</td>\n",
       "      <td>US-New Mexico</td>\n",
       "      <td>Pleistocene-Fumarolic</td>\n",
       "      <td>3430.0</td>\n",
       "      <td>Caldera</td>\n",
       "      <td>Q</td>\n",
       "      <td>35.869999</td>\n",
       "      <td>-106.570999</td>\n",
       "    </tr>\n",
       "    <tr>\n",
       "      <th>58</th>\n",
       "      <td>581.0</td>\n",
       "      <td>1209-02-</td>\n",
       "      <td>Sunset Crater</td>\n",
       "      <td>US-Arizona</td>\n",
       "      <td>Dendrochronology</td>\n",
       "      <td>2447.0</td>\n",
       "      <td>Cinder cone</td>\n",
       "      <td>D6</td>\n",
       "      <td>35.369999</td>\n",
       "      <td>-111.501000</td>\n",
       "    </tr>\n",
       "    <tr>\n",
       "      <th>59</th>\n",
       "      <td>584.0</td>\n",
       "      <td>1203-20-</td>\n",
       "      <td>Amboy</td>\n",
       "      <td>US-California</td>\n",
       "      <td>Holocene</td>\n",
       "      <td>288.0</td>\n",
       "      <td>Cinder cone</td>\n",
       "      <td>U</td>\n",
       "      <td>34.549999</td>\n",
       "      <td>-115.780998</td>\n",
       "    </tr>\n",
       "    <tr>\n",
       "      <th>60</th>\n",
       "      <td>586.0</td>\n",
       "      <td>1210-02-</td>\n",
       "      <td>Zuni-Bandera</td>\n",
       "      <td>US-New Mexico</td>\n",
       "      <td>Anthropology</td>\n",
       "      <td>2550.0</td>\n",
       "      <td>Volcanic field</td>\n",
       "      <td>D7</td>\n",
       "      <td>34.799999</td>\n",
       "      <td>-108.001000</td>\n",
       "    </tr>\n",
       "    <tr>\n",
       "      <th>61</th>\n",
       "      <td>588.0</td>\n",
       "      <td>1210-01-</td>\n",
       "      <td>Carrizozo</td>\n",
       "      <td>US-New Mexico</td>\n",
       "      <td>Holocene</td>\n",
       "      <td>1731.0</td>\n",
       "      <td>Cinder cone</td>\n",
       "      <td>U</td>\n",
       "      <td>33.780102</td>\n",
       "      <td>-105.931000</td>\n",
       "    </tr>\n",
       "  </tbody>\n",
       "</table>\n",
       "<p>62 rows × 10 columns</p>\n",
       "</div>"
      ],
      "text/plain": [
       "    VOLCANX020    NUMBER            NAME       LOCATION  \\\n",
       "0        509.0  1201-01=           Baker  US-Washington   \n",
       "1        511.0  1201-02-    Glacier Peak  US-Washington   \n",
       "2        513.0  1201-03-         Rainier  US-Washington   \n",
       "3        515.0  1201-05-      St. Helens  US-Washington   \n",
       "4        516.0  1201-04-           Adams  US-Washington   \n",
       "..         ...       ...             ...            ...   \n",
       "57       580.0  1210-03-  Valles Caldera  US-New Mexico   \n",
       "58       581.0  1209-02-   Sunset Crater     US-Arizona   \n",
       "59       584.0  1203-20-           Amboy  US-California   \n",
       "60       586.0  1210-02-    Zuni-Bandera  US-New Mexico   \n",
       "61       588.0  1210-01-       Carrizozo  US-New Mexico   \n",
       "\n",
       "                   STATUS    ELEV             TYPE TIMEFRAME        LAT  \\\n",
       "0              Historical  3285.0  Stratovolcanoes        D3  48.776798   \n",
       "1        Tephrochronology  3213.0    Stratovolcano        D4  48.111801   \n",
       "2        Dendrochronology  4392.0    Stratovolcano        D3  46.869801   \n",
       "3              Historical  2549.0    Stratovolcano        D1  46.199799   \n",
       "4        Tephrochronology  3742.0    Stratovolcano        D6  46.205799   \n",
       "..                    ...     ...              ...       ...        ...   \n",
       "57  Pleistocene-Fumarolic  3430.0          Caldera         Q  35.869999   \n",
       "58       Dendrochronology  2447.0      Cinder cone        D6  35.369999   \n",
       "59               Holocene   288.0      Cinder cone         U  34.549999   \n",
       "60           Anthropology  2550.0   Volcanic field        D7  34.799999   \n",
       "61               Holocene  1731.0      Cinder cone         U  33.780102   \n",
       "\n",
       "           LON  \n",
       "0  -121.810997  \n",
       "1  -121.111000  \n",
       "2  -121.751000  \n",
       "3  -122.181000  \n",
       "4  -121.490997  \n",
       "..         ...  \n",
       "57 -106.570999  \n",
       "58 -111.501000  \n",
       "59 -115.780998  \n",
       "60 -108.001000  \n",
       "61 -105.931000  \n",
       "\n",
       "[62 rows x 10 columns]"
      ]
     },
     "execution_count": 8,
     "metadata": {},
     "output_type": "execute_result"
    }
   ],
   "source": [
    "import pandas\n",
    "df = pandas.read_csv('Volcanoes.txt')\n",
    "df"
   ]
  },
  {
   "cell_type": "code",
   "execution_count": 9,
   "metadata": {},
   "outputs": [],
   "source": [
    "lats_lons = df.loc[:, \"LAT\":\"LON\"]"
   ]
  },
  {
   "cell_type": "code",
   "execution_count": 10,
   "metadata": {},
   "outputs": [
    {
     "name": "stdout",
     "output_type": "stream",
     "text": [
      "          LAT         LON\n",
      "0   48.776798 -121.810997\n",
      "1   48.111801 -121.111000\n",
      "2   46.869801 -121.751000\n",
      "3   46.199799 -122.181000\n",
      "4   46.205799 -121.490997\n",
      "..        ...         ...\n",
      "57  35.869999 -106.570999\n",
      "58  35.369999 -111.501000\n",
      "59  34.549999 -115.780998\n",
      "60  34.799999 -108.001000\n",
      "61  33.780102 -105.931000\n",
      "\n",
      "[62 rows x 2 columns]\n"
     ]
    }
   ],
   "source": [
    "print(lats_lons)"
   ]
  },
  {
   "cell_type": "code",
   "execution_count": 11,
   "metadata": {},
   "outputs": [
    {
     "name": "stdout",
     "output_type": "stream",
     "text": [
      "<class 'pandas.core.frame.DataFrame'>\n"
     ]
    }
   ],
   "source": [
    "print(type(lats_lons))"
   ]
  },
  {
   "cell_type": "code",
   "execution_count": 12,
   "metadata": {},
   "outputs": [],
   "source": [
    "obj = lats_lons.to_numpy()"
   ]
  },
  {
   "cell_type": "code",
   "execution_count": 13,
   "metadata": {},
   "outputs": [
    {
     "name": "stdout",
     "output_type": "stream",
     "text": [
      "[[  48.7767982 -121.810997 ]\n",
      " [  48.1118011 -121.1110001]\n",
      " [  46.8698006 -121.7509995]\n",
      " [  46.1997986 -122.1809998]\n",
      " [  46.2057991 -121.4909973]\n",
      " [  45.8797989 -122.0810013]\n",
      " [  45.9297981 -121.8209991]\n",
      " [  45.3737984 -121.6910019]\n",
      " [  44.6917992 -121.8010025]\n",
      " [  44.4197998 -121.7710037]\n",
      " [  44.3797989 -121.9309998]\n",
      " [  44.3317986 -121.8310013]\n",
      " [  44.2848015 -121.8410034]\n",
      " [  44.1697998 -121.7710037]\n",
      " [  44.0998001 -121.7710037]\n",
      " [  43.9788017 -121.6809998]\n",
      " [  43.7218018 -121.2210007]\n",
      " [  43.5698013 -121.8209991]\n",
      " [  43.5119019 -120.8610001]\n",
      " [  43.240799  -122.1009979]\n",
      " [  43.4719009 -120.7509995]\n",
      " [  43.3609009 -120.6610031]\n",
      " [  42.9299011 -122.1210022]\n",
      " [  44.4299011 -110.6709976]\n",
      " [  43.0998993 -118.7509995]\n",
      " [  43.1498985 -117.4710007]\n",
      " [  42.9999008 -117.8010025]\n",
      " [  43.419899  -113.5009995]\n",
      " [  43.4999008 -112.4509964]\n",
      " [  43.1799011 -114.3509979]\n",
      " [  42.6058998 -117.5810013]\n",
      " [  41.5798988 -121.5709991]\n",
      " [  42.8799019 -113.2210007]\n",
      " [  41.419899  -122.2009964]\n",
      " [  41.1778984 -121.4410019]\n",
      " [  40.9548988 -121.3610001]\n",
      " [  40.7798996 -121.6009979]\n",
      " [  40.6799011 -121.5510025]\n",
      " [  40.6299019 -120.8310013]\n",
      " [  40.4919014 -121.5009995]\n",
      " [  38.9698982 -122.7710037]\n",
      " [  39.3749008 -119.7210007]\n",
      " [  39.6500015 -107.0309982]\n",
      " [  37.9999008 -119.0309982]\n",
      " [  38.9700012 -112.5009995]\n",
      " [  37.8799019 -119.0009995]\n",
      " [  37.6918983 -119.0210037]\n",
      " [  37.6999016 -118.8710022]\n",
      " [  37.5798988 -119.0510025]\n",
      " [  37.0199013 -117.4509964]\n",
      " [  37.5800018 -112.6709976]\n",
      " [  37.257     -113.6210022]\n",
      " [  37.3279991 -112.401001 ]\n",
      " [  36.3578987 -118.3209991]\n",
      " [  36.0298996 -117.8209991]\n",
      " [  36.3800011 -113.1309967]\n",
      " [  34.75      -116.6210022]\n",
      " [  35.8699989 -106.5709991]\n",
      " [  35.3699989 -111.5009995]\n",
      " [  34.5499992 -115.7809982]\n",
      " [  34.7999992 -108.0009995]\n",
      " [  33.7801018 -105.9309998]]\n"
     ]
    }
   ],
   "source": [
    "print(obj)"
   ]
  },
  {
   "cell_type": "code",
   "execution_count": 14,
   "metadata": {},
   "outputs": [],
   "source": [
    "elevs = list(df[\"ELEV\"])"
   ]
  },
  {
   "cell_type": "code",
   "execution_count": 15,
   "metadata": {},
   "outputs": [],
   "source": [
    "elevs.sort()"
   ]
  },
  {
   "cell_type": "code",
   "execution_count": 16,
   "metadata": {},
   "outputs": [
    {
     "name": "stdout",
     "output_type": "stream",
     "text": [
      "None\n"
     ]
    }
   ],
   "source": [
    "print(elevs.sort())"
   ]
  },
  {
   "cell_type": "code",
   "execution_count": 17,
   "metadata": {},
   "outputs": [
    {
     "name": "stdout",
     "output_type": "stream",
     "text": [
      "[288.0, 752.0, 1174.0, 1230.0, 1259.0, 1329.0, 1415.0, 1418.0, 1435.0, 1439.0, 1465.0, 1473.0, 1478.0, 1495.0, 1501.0, 1555.0, 1604.0, 1631.0, 1631.0, 1652.0, 1664.0, 1698.0, 1700.0, 1711.0, 1731.0, 1800.0, 1806.0, 1956.0, 2005.0, 2095.0, 2121.0, 2135.0, 2163.0, 2191.0, 2230.0, 2376.0, 2400.0, 2412.0, 2434.0, 2447.0, 2487.0, 2549.0, 2550.0, 2629.0, 2748.0, 2763.0, 2796.0, 2805.0, 2840.0, 2886.0, 3074.0, 3157.0, 3187.0, 3199.0, 3213.0, 3285.0, 3390.0, 3426.0, 3430.0, 3742.0, 4317.0, 4392.0]\n"
     ]
    }
   ],
   "source": [
    "print(elevs)"
   ]
  },
  {
   "cell_type": "code",
   "execution_count": 18,
   "metadata": {},
   "outputs": [
    {
     "data": {
      "text/plain": [
       "2212.3225806451615"
      ]
     },
     "execution_count": 18,
     "metadata": {},
     "output_type": "execute_result"
    }
   ],
   "source": [
    "df[\"ELEV\"].mean()"
   ]
  },
  {
   "cell_type": "code",
   "execution_count": 19,
   "metadata": {},
   "outputs": [
    {
     "data": {
      "text/plain": [
       "2128.0"
      ]
     },
     "execution_count": 19,
     "metadata": {},
     "output_type": "execute_result"
    }
   ],
   "source": [
    "df[\"ELEV\"].median()"
   ]
  },
  {
   "cell_type": "code",
   "execution_count": 20,
   "metadata": {},
   "outputs": [
    {
     "data": {
      "text/plain": [
       "0    1631.0\n",
       "dtype: float64"
      ]
     },
     "execution_count": 20,
     "metadata": {},
     "output_type": "execute_result"
    }
   ],
   "source": [
    "df[\"ELEV\"].mode()"
   ]
  },
  {
   "cell_type": "code",
   "execution_count": 21,
   "metadata": {},
   "outputs": [
    {
     "data": {
      "text/plain": [
       "4392.0"
      ]
     },
     "execution_count": 21,
     "metadata": {},
     "output_type": "execute_result"
    }
   ],
   "source": [
    "df[\"ELEV\"].max()"
   ]
  },
  {
   "cell_type": "code",
   "execution_count": null,
   "metadata": {},
   "outputs": [],
   "source": []
  }
 ],
 "metadata": {
  "kernelspec": {
   "display_name": "Python 3",
   "language": "python",
   "name": "python3"
  },
  "language_info": {
   "codemirror_mode": {
    "name": "ipython",
    "version": 3
   },
   "file_extension": ".py",
   "mimetype": "text/x-python",
   "name": "python",
   "nbconvert_exporter": "python",
   "pygments_lexer": "ipython3",
   "version": "3.7.0"
  }
 },
 "nbformat": 4,
 "nbformat_minor": 4
}
